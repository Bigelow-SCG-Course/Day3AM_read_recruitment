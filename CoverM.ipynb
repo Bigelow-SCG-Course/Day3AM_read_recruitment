{
 "cells": [
  {
   "cell_type": "markdown",
   "metadata": {},
   "source": [
    "# Genome recruitment using coverM"
   ]
  },
  {
   "cell_type": "markdown",
   "metadata": {},
   "source": [
    "We are now ready to start the recruitment. "
   ]
  },
  {
   "cell_type": "markdown",
   "metadata": {},
   "source": [
    "Reminder, the metagenomes are located in the folder:"
   ]
  },
  {
   "cell_type": "markdown",
   "metadata": {},
   "source": [
    "\n",
    "```\n",
    "~/storage/data/metagenomes/subsampled_metagenomes\n",
    "```\n",
    "\n"
   ]
  },
  {
   "cell_type": "markdown",
   "metadata": {},
   "source": [
    "and the genomes in: \n"
   ]
  },
  {
   "cell_type": "markdown",
   "metadata": {},
   "source": [
    "```\n",
    "~/storage/data/contigs/AG-910\n",
    "```"
   ]
  },
  {
   "cell_type": "markdown",
   "metadata": {},
   "source": [
    "Make a `coverm` directory in you `user_lab` and get there: "
   ]
  },
  {
   "cell_type": "markdown",
   "metadata": {},
   "source": [
    "```\n",
    "$ mkdir ~/storage/user_lab/mpachiadaki/coverm\n",
    "$ cd ~/storage/user_lab/mpachiadaki/coverm\n",
    "```"
   ]
  },
  {
   "cell_type": "markdown",
   "metadata": {},
   "source": []
  },
  {
   "cell_type": "markdown",
   "metadata": {},
   "source": [
    "> Check the coverm help pages. And then, run coverm using minimum percent identity 95% and minimum read aligned 50%. Restrict the use of cores to 2. The example for me would be "
   ]
  },
  {
   "cell_type": "markdown",
   "metadata": {},
   "source": [
    "```\n",
    "$ coverm genome -c ~/storage/data/metagenomes/subsampled_metagenomes/SRR* -d ~/storage/data/contigs/AG-910/ -x fasta --min-read-percent-identity 95 --min-read-aligned-percent 50 -t 2 --output-file ~/storage/user_lab/mpachiadaki/coverm/AG_910_all\n",
    "```"
   ]
  },
  {
   "cell_type": "markdown",
   "metadata": {},
   "source": []
  },
  {
   "cell_type": "markdown",
   "metadata": {},
   "source": [
    "While CoverM is running let's explore the various [Calculation methods](https://github.com/wwood/CoverM#calculation-methods) "
   ]
  }
 ],
 "metadata": {
  "kernelspec": {
   "display_name": "Python 3",
   "language": "python",
   "name": "python3"
  },
  "language_info": {
   "codemirror_mode": {
    "name": "ipython",
    "version": 3
   },
   "file_extension": ".py",
   "mimetype": "text/x-python",
   "name": "python",
   "nbconvert_exporter": "python",
   "pygments_lexer": "ipython3",
   "version": "3.7.3"
  }
 },
 "nbformat": 4,
 "nbformat_minor": 2
}
