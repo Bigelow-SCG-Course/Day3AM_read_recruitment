{
 "cells": [
  {
   "cell_type": "markdown",
   "id": "a6af40f8-b03d-406e-bc1b-a23d00e9b605",
   "metadata": {},
   "source": [
    "## Project Environment Setup\n",
    "\n",
    "We have downloaded metagenome data from NCBI to use for this project.\n",
    "\n",
    "There's no need to do this yourselves, bu take note of this approach for future examination of metagenomes from NCBI's Short Read Archive (SRA)."
   ]
  },
  {
   "cell_type": "markdown",
   "id": "ba500a85-3e41-4060-8c1b-f662e3c39a5f",
   "metadata": {},
   "source": [
    "## Software Environment Setup\n",
    "\n",
    "The software needed for this tutorial can be found in the conda env config file ./coverm_env.yml\n",
    "\n",
    "It is pre-installed on the jupyter hub.  To activate it in the terminal type:\n",
    "\n",
    "```\n",
    "conda activate coverM\n",
    "```\n",
    "\n",
    "To use it in a jupyter notebook, select the 'coverm' kernel on the upper right-hand side of the screen."
   ]
  },
  {
   "cell_type": "markdown",
   "id": "ce8557d7-8055-4937-9e3c-53979503315f",
   "metadata": {},
   "source": [
    "## Data Setup\n",
    "\n",
    "For this lesson, we are going to use the SAGs that we have been working with all week, AG-910, to examine their abundance over time at BATS using metagenomic read recruitment.  \n",
    "\n",
    "The metagenomes we will use are a small subset of metagenomes reported in [this](https://www.nature.com/articles/sdata2018176) publication. These metagenomes are available through NCBI project ID [PRJNA385855](https://www.ncbi.nlm.nih.gov/bioproject?term=PRJNA385855). I've downloaded a metadata sheet with all sra metagenomes from this bioproject to: ./data/PRJNA385855_sra_metadata.csv\n",
    "\n",
    "Let's check this table out, and I'll show you which metagenomes I selected."
   ]
  },
  {
   "cell_type": "code",
   "execution_count": null,
   "id": "e70110c3-e849-4b74-8a2f-9d000c654330",
   "metadata": {},
   "outputs": [],
   "source": [
    "import pandas as pd\n",
    "\n",
    "df = pd.read_csv(\"./data/PRJNA385855_sra_metadata.csv\", sep = \",\")\n",
    "\n",
    "df.columns"
   ]
  },
  {
   "cell_type": "markdown",
   "id": "2ada9cdc-bc6c-41cd-a44e-8d3d007283d4",
   "metadata": {},
   "source": [
    "This datasheet isn't only useful for metagenome selection, but it also has useful information on it that we can use for downstream analyses.\n",
    "\n",
    "Let's get a handle on the metagenomes described within this dataframe:"
   ]
  },
  {
   "cell_type": "code",
   "execution_count": null,
   "id": "c93cbf74-6fe1-4853-a484-af5b0e316408",
   "metadata": {},
   "outputs": [],
   "source": [
    "df[['Run','Assay Type','Collection_date','cruise_id','Depth']].head(20)"
   ]
  },
  {
   "cell_type": "markdown",
   "id": "e4629227-ff50-425f-b745-bb4698d26a7f",
   "metadata": {},
   "source": [
    "I see lots of 'HOT' and 'BATS' in the cruise_id column. Those are two time series stations.  HOT is in the Pacific, near Hawaii, and BATS is in the Atlantic, near Bermuda.  \n",
    "\n",
    "Our SAG plate is from BATS248. For this small project, we are interested in examining the abundance of our SAGs in the surface at BATS within this metagenome collection, so let's find just those metagenomes collected at BATS from either 1m or 10m depth."
   ]
  },
  {
   "cell_type": "code",
   "execution_count": null,
   "id": "d836e635-35a5-4f17-9083-50792b61df8f",
   "metadata": {},
   "outputs": [],
   "source": [
    "# dataframe of metagenomes of interest\n",
    "mgoi = df[df['cruise_id'].str.contains('BATS') & df['Depth'].isin(['10m','1m'])][['Run','Collection_date','cruise_id','BioSample','Depth']].sort_values(by = 'Collection_date')\n",
    "\n",
    "# going to save this table to file\n",
    "mgoi.to_csv(\"./data/bats_metagenomes_of_interest.csv\", index=False)\n",
    "\n",
    "print(\"There are\", len(mgoi), \"metagenomes that we are interested in downloading\")\n",
    "mgoi"
   ]
  },
  {
   "cell_type": "markdown",
   "id": "30a07e46-3ccb-4d9a-852c-84f7e2a3524b",
   "metadata": {},
   "source": [
    "Just for ease of access, I'm going to print out another small text file that has just the runids of the metagenomes we are interested in downloading into the directory we will download the files into:"
   ]
  },
  {
   "cell_type": "code",
   "execution_count": null,
   "id": "7926d803-0d04-4376-a3a9-6010e5c50de6",
   "metadata": {},
   "outputs": [],
   "source": [
    "with open('/mnt/storage/data/metagenomes/subsampled_metagenomes/metagenomes_to_download.txt', 'w') as oh:\n",
    "    for run in mgoi['Run']:\n",
    "        print(run, file = oh)"
   ]
  },
  {
   "cell_type": "markdown",
   "id": "1f198f67-ed68-4fc8-be0c-aa01a2187124",
   "metadata": {},
   "source": [
    "I'm next going to download these metagenomes from ncbi using the fastq-dump function from the sra-tools package.  Some parameters I'll use, I'm going to skip technical reads, and download only 1000000 reads from each metagenome."
   ]
  },
  {
   "cell_type": "markdown",
   "id": "01617c25-d23c-4a2a-bd20-b557e15041de",
   "metadata": {},
   "source": [
    "To download these metagenomes I opened up a temrinal window and ran:\n",
    "\n",
    "```\n",
    "conda activate coverm\n",
    "\n",
    "cd /mnt/storage/data/metagenomes/subsampled_metagenomes/\n",
    "\n",
    "while read p; do\n",
    "  fastq-dump --split-files --skip-technical -N 0 -X 1000000 --gzip --readids \"$p\"\n",
    "done < metagenomes_to_download.txt\n",
    "```"
   ]
  },
  {
   "cell_type": "markdown",
   "id": "543649c9-452a-488d-8dc9-2e8ab7b86678",
   "metadata": {},
   "source": [
    "Let's check which metagenomes were downloaded, using the python package 'glob' which identifies files using wildcards, and returns them as a list."
   ]
  },
  {
   "cell_type": "code",
   "execution_count": null,
   "id": "8cf5ddbb-4b09-4208-8235-0f63da98ff90",
   "metadata": {},
   "outputs": [],
   "source": [
    "from glob import glob\n",
    "\n",
    "mgs = glob('/mnt/storage/data/metagenomes/subsampled_metagenomes/*_1.fastq.gz')"
   ]
  },
  {
   "cell_type": "markdown",
   "id": "7d7f1829-19ad-42d7-9af9-3a03260d98bd",
   "metadata": {},
   "source": [
    "Now I'm going to use what's called a 'list comprehension' to extract the runids from this list of files:"
   ]
  },
  {
   "cell_type": "code",
   "execution_count": null,
   "id": "ebc512eb-3ed0-45cb-b7b3-b600ada2106c",
   "metadata": {},
   "outputs": [],
   "source": [
    "runids = [i.split(\"/\")[-1].split(\"_\")[0] for i in mgs]\n",
    "len(runids)"
   ]
  },
  {
   "cell_type": "markdown",
   "id": "a5f6424b-05ea-4981-9750-c0748d2d2297",
   "metadata": {},
   "source": [
    "Hmmmm... two SRA archives are missing, I wonder which ones those are."
   ]
  },
  {
   "cell_type": "code",
   "execution_count": null,
   "id": "a3737d78-a4df-4062-91b5-e21f1e7270be",
   "metadata": {},
   "outputs": [],
   "source": [
    "mgoi.loc[~mgoi['Run'].isin(runids),'downloaded'] = 'no'\n",
    "mgoi['downloaded'] = mgoi['downloaded'].fillna('yes')\n",
    "mgoi"
   ]
  },
  {
   "cell_type": "code",
   "execution_count": null,
   "id": "6cfde1fa-a680-4936-9770-0b3284bad498",
   "metadata": {},
   "outputs": [],
   "source": [
    "mgoi.to_csv(\"./data/bats_metagenomes_of_interest.csv\", index=False)"
   ]
  },
  {
   "cell_type": "markdown",
   "id": "9da7a1bc-e1f1-48c9-9771-c7b9192f1b2d",
   "metadata": {},
   "source": [
    "The error I see in the terminal says:\n",
    "\n",
    "```\n",
    "2022-03-23T19:51:04 fastq-dump.2.8.0 err: no error - error with http open 'https://sra-downloadb.be-md.ncbi.nlm.nih.gov/sos2/sra-pub-run-11/SRR5720276/SRR5720276.1'\n",
    "2022-03-23T19:51:04 fastq-dump.2.8.0 err: item not found while constructing within virtual database module - the path 'SRR5720276' cannot be opened as database or table\n",
    "```\n",
    "\n",
    "For whatever reason, these two metagenomes can't be downloaded. I'm OK with that. For the sake of this lesson, we'll have enough information with the metagenomes we recovered to look into SAG abundance at BATS over time."
   ]
  },
  {
   "cell_type": "code",
   "execution_count": null,
   "id": "5371c1c0-43db-4640-97c9-85d001e185e7",
   "metadata": {},
   "outputs": [],
   "source": []
  }
 ],
 "metadata": {
  "kernelspec": {
   "display_name": "Python 3 (ipykernel)",
   "language": "python",
   "name": "python3"
  },
  "language_info": {
   "codemirror_mode": {
    "name": "ipython",
    "version": 3
   },
   "file_extension": ".py",
   "mimetype": "text/x-python",
   "name": "python",
   "nbconvert_exporter": "python",
   "pygments_lexer": "ipython3",
   "version": "3.9.7"
  }
 },
 "nbformat": 4,
 "nbformat_minor": 5
}
