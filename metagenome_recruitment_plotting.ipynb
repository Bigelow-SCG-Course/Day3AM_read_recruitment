{
 "cells": [
  {
   "cell_type": "markdown",
   "id": "19be36e5-e08e-4865-9dfd-d3eeabdbb629",
   "metadata": {},
   "source": [
    "### Exploring the output from CoverM\n",
    "\n",
    "We've used all SAGs on AG-910 as the input genomes, and the metagenomes from BATs surface samples as inputs for coverM.  Let's see what the results look like.\n",
    "\n",
    "First we'll import a couple of libraries:"
   ]
  },
  {
   "cell_type": "code",
   "execution_count": 1,
   "id": "ef774334-6ab1-47b6-b1ac-937a423c76c5",
   "metadata": {},
   "outputs": [],
   "source": [
    "import pandas as pd    # for reading and munging data frames\n",
    "import matplotlib.pyplot as plt # a python plotting library\n",
    "import seaborn as sns    # a python library for creating simple, nice looking plots with matplotlib\n",
    "\n",
    "from matplotlib.dates import DateFormatter\n",
    "\n",
    "\n",
    "from collections import Counter # an easy way to count elements in a list"
   ]
  },
  {
   "cell_type": "markdown",
   "id": "f49ad52f-cf59-4896-8ca8-38233e8c2fc8",
   "metadata": {},
   "source": [
    "Now we will load a couple different data tables, and will need to clean them up a bit so that they are ready to play with."
   ]
  },
  {
   "cell_type": "code",
   "execution_count": 2,
   "id": "6d01e81f-af72-4ed5-9e7d-1a0874768e76",
   "metadata": {},
   "outputs": [],
   "source": [
    "metagenome_metadata = \"./data/bats_metagenomes_of_interest.csv\"\n",
    "\n",
    "sag_metadata = \"/mnt/storage/data/sag_deliverables/AG-910_assembly_stats_updated.csv\"\n",
    "\n",
    "recruitment_table = \"/mnt/storage/lesson_analyses/coverm/AG_910_minimap2-sr\" "
   ]
  },
  {
   "cell_type": "code",
   "execution_count": 3,
   "id": "5c4f663d-1368-4bb3-ba98-efc9916805d0",
   "metadata": {},
   "outputs": [
    {
     "data": {
      "text/html": [
       "<div>\n",
       "<style scoped>\n",
       "    .dataframe tbody tr th:only-of-type {\n",
       "        vertical-align: middle;\n",
       "    }\n",
       "\n",
       "    .dataframe tbody tr th {\n",
       "        vertical-align: top;\n",
       "    }\n",
       "\n",
       "    .dataframe thead th {\n",
       "        text-align: right;\n",
       "    }\n",
       "</style>\n",
       "<table border=\"1\" class=\"dataframe\">\n",
       "  <thead>\n",
       "    <tr style=\"text-align: right;\">\n",
       "      <th></th>\n",
       "      <th>Genome</th>\n",
       "      <th>SRR5720233_1.fastq.gz Relative Abundance (%)</th>\n",
       "      <th>SRR5720235_1.fastq.gz Relative Abundance (%)</th>\n",
       "      <th>SRR5720238_1.fastq.gz Relative Abundance (%)</th>\n",
       "      <th>SRR5720251_1.fastq.gz Relative Abundance (%)</th>\n",
       "      <th>SRR5720256_1.fastq.gz Relative Abundance (%)</th>\n",
       "      <th>SRR5720260_1.fastq.gz Relative Abundance (%)</th>\n",
       "      <th>SRR5720262_1.fastq.gz Relative Abundance (%)</th>\n",
       "      <th>SRR5720278_1.fastq.gz Relative Abundance (%)</th>\n",
       "      <th>SRR5720283_1.fastq.gz Relative Abundance (%)</th>\n",
       "      <th>SRR5720286_1.fastq.gz Relative Abundance (%)</th>\n",
       "      <th>SRR5720307_1.fastq.gz Relative Abundance (%)</th>\n",
       "      <th>SRR5720321_1.fastq.gz Relative Abundance (%)</th>\n",
       "      <th>SRR5720322_1.fastq.gz Relative Abundance (%)</th>\n",
       "      <th>SRR5720327_1.fastq.gz Relative Abundance (%)</th>\n",
       "      <th>SRR5720332_1.fastq.gz Relative Abundance (%)</th>\n",
       "      <th>SRR5720337_1.fastq.gz Relative Abundance (%)</th>\n",
       "      <th>SRR5720338_1.fastq.gz Relative Abundance (%)</th>\n",
       "      <th>SRR5720342_1.fastq.gz Relative Abundance (%)</th>\n",
       "      <th>SRR6507279_1.fastq.gz Relative Abundance (%)</th>\n",
       "    </tr>\n",
       "  </thead>\n",
       "  <tbody>\n",
       "    <tr>\n",
       "      <th>0</th>\n",
       "      <td>unmapped</td>\n",
       "      <td>95.915300</td>\n",
       "      <td>74.883250</td>\n",
       "      <td>97.379456</td>\n",
       "      <td>86.402800</td>\n",
       "      <td>96.196500</td>\n",
       "      <td>75.034950</td>\n",
       "      <td>89.644950</td>\n",
       "      <td>89.561650</td>\n",
       "      <td>84.792946</td>\n",
       "      <td>67.258750</td>\n",
       "      <td>85.007200</td>\n",
       "      <td>79.603950</td>\n",
       "      <td>93.225800</td>\n",
       "      <td>82.492400</td>\n",
       "      <td>87.859900</td>\n",
       "      <td>97.318350</td>\n",
       "      <td>97.791</td>\n",
       "      <td>89.058000</td>\n",
       "      <td>71.355850</td>\n",
       "    </tr>\n",
       "    <tr>\n",
       "      <th>1</th>\n",
       "      <td>AG-910-I04_contigs</td>\n",
       "      <td>0.000000</td>\n",
       "      <td>0.000000</td>\n",
       "      <td>0.000000</td>\n",
       "      <td>0.000000</td>\n",
       "      <td>0.000000</td>\n",
       "      <td>0.000000</td>\n",
       "      <td>0.000000</td>\n",
       "      <td>0.000000</td>\n",
       "      <td>0.000000</td>\n",
       "      <td>0.000000</td>\n",
       "      <td>0.000000</td>\n",
       "      <td>0.000000</td>\n",
       "      <td>0.000000</td>\n",
       "      <td>0.000000</td>\n",
       "      <td>0.000000</td>\n",
       "      <td>0.000000</td>\n",
       "      <td>0.000</td>\n",
       "      <td>0.000000</td>\n",
       "      <td>0.000000</td>\n",
       "    </tr>\n",
       "    <tr>\n",
       "      <th>2</th>\n",
       "      <td>AG-910-N18_contigs</td>\n",
       "      <td>0.000000</td>\n",
       "      <td>0.051973</td>\n",
       "      <td>0.000000</td>\n",
       "      <td>0.039565</td>\n",
       "      <td>0.000000</td>\n",
       "      <td>0.000000</td>\n",
       "      <td>0.044398</td>\n",
       "      <td>0.039227</td>\n",
       "      <td>0.000000</td>\n",
       "      <td>0.034618</td>\n",
       "      <td>0.050800</td>\n",
       "      <td>0.000000</td>\n",
       "      <td>0.000000</td>\n",
       "      <td>0.043655</td>\n",
       "      <td>0.038832</td>\n",
       "      <td>0.000000</td>\n",
       "      <td>0.000</td>\n",
       "      <td>0.000000</td>\n",
       "      <td>0.070772</td>\n",
       "    </tr>\n",
       "    <tr>\n",
       "      <th>3</th>\n",
       "      <td>AG-910-L04_contigs</td>\n",
       "      <td>0.036017</td>\n",
       "      <td>0.141393</td>\n",
       "      <td>0.032294</td>\n",
       "      <td>0.076190</td>\n",
       "      <td>0.040551</td>\n",
       "      <td>0.139617</td>\n",
       "      <td>0.056892</td>\n",
       "      <td>0.055073</td>\n",
       "      <td>0.059614</td>\n",
       "      <td>0.130149</td>\n",
       "      <td>0.083268</td>\n",
       "      <td>0.087849</td>\n",
       "      <td>0.052642</td>\n",
       "      <td>0.091994</td>\n",
       "      <td>0.075117</td>\n",
       "      <td>0.029423</td>\n",
       "      <td>0.000</td>\n",
       "      <td>0.056989</td>\n",
       "      <td>0.197780</td>\n",
       "    </tr>\n",
       "    <tr>\n",
       "      <th>4</th>\n",
       "      <td>AG-910-N05_contigs</td>\n",
       "      <td>0.000000</td>\n",
       "      <td>0.000000</td>\n",
       "      <td>0.000000</td>\n",
       "      <td>0.000000</td>\n",
       "      <td>0.000000</td>\n",
       "      <td>0.000000</td>\n",
       "      <td>0.000000</td>\n",
       "      <td>0.000000</td>\n",
       "      <td>0.000000</td>\n",
       "      <td>0.000000</td>\n",
       "      <td>0.000000</td>\n",
       "      <td>0.000000</td>\n",
       "      <td>0.000000</td>\n",
       "      <td>0.000000</td>\n",
       "      <td>0.000000</td>\n",
       "      <td>0.000000</td>\n",
       "      <td>0.000</td>\n",
       "      <td>0.000000</td>\n",
       "      <td>0.000000</td>\n",
       "    </tr>\n",
       "  </tbody>\n",
       "</table>\n",
       "</div>"
      ],
      "text/plain": [
       "               Genome  SRR5720233_1.fastq.gz Relative Abundance (%)  \\\n",
       "0            unmapped                                     95.915300   \n",
       "1  AG-910-I04_contigs                                      0.000000   \n",
       "2  AG-910-N18_contigs                                      0.000000   \n",
       "3  AG-910-L04_contigs                                      0.036017   \n",
       "4  AG-910-N05_contigs                                      0.000000   \n",
       "\n",
       "   SRR5720235_1.fastq.gz Relative Abundance (%)  \\\n",
       "0                                     74.883250   \n",
       "1                                      0.000000   \n",
       "2                                      0.051973   \n",
       "3                                      0.141393   \n",
       "4                                      0.000000   \n",
       "\n",
       "   SRR5720238_1.fastq.gz Relative Abundance (%)  \\\n",
       "0                                     97.379456   \n",
       "1                                      0.000000   \n",
       "2                                      0.000000   \n",
       "3                                      0.032294   \n",
       "4                                      0.000000   \n",
       "\n",
       "   SRR5720251_1.fastq.gz Relative Abundance (%)  \\\n",
       "0                                     86.402800   \n",
       "1                                      0.000000   \n",
       "2                                      0.039565   \n",
       "3                                      0.076190   \n",
       "4                                      0.000000   \n",
       "\n",
       "   SRR5720256_1.fastq.gz Relative Abundance (%)  \\\n",
       "0                                     96.196500   \n",
       "1                                      0.000000   \n",
       "2                                      0.000000   \n",
       "3                                      0.040551   \n",
       "4                                      0.000000   \n",
       "\n",
       "   SRR5720260_1.fastq.gz Relative Abundance (%)  \\\n",
       "0                                     75.034950   \n",
       "1                                      0.000000   \n",
       "2                                      0.000000   \n",
       "3                                      0.139617   \n",
       "4                                      0.000000   \n",
       "\n",
       "   SRR5720262_1.fastq.gz Relative Abundance (%)  \\\n",
       "0                                     89.644950   \n",
       "1                                      0.000000   \n",
       "2                                      0.044398   \n",
       "3                                      0.056892   \n",
       "4                                      0.000000   \n",
       "\n",
       "   SRR5720278_1.fastq.gz Relative Abundance (%)  \\\n",
       "0                                     89.561650   \n",
       "1                                      0.000000   \n",
       "2                                      0.039227   \n",
       "3                                      0.055073   \n",
       "4                                      0.000000   \n",
       "\n",
       "   SRR5720283_1.fastq.gz Relative Abundance (%)  \\\n",
       "0                                     84.792946   \n",
       "1                                      0.000000   \n",
       "2                                      0.000000   \n",
       "3                                      0.059614   \n",
       "4                                      0.000000   \n",
       "\n",
       "   SRR5720286_1.fastq.gz Relative Abundance (%)  \\\n",
       "0                                     67.258750   \n",
       "1                                      0.000000   \n",
       "2                                      0.034618   \n",
       "3                                      0.130149   \n",
       "4                                      0.000000   \n",
       "\n",
       "   SRR5720307_1.fastq.gz Relative Abundance (%)  \\\n",
       "0                                     85.007200   \n",
       "1                                      0.000000   \n",
       "2                                      0.050800   \n",
       "3                                      0.083268   \n",
       "4                                      0.000000   \n",
       "\n",
       "   SRR5720321_1.fastq.gz Relative Abundance (%)  \\\n",
       "0                                     79.603950   \n",
       "1                                      0.000000   \n",
       "2                                      0.000000   \n",
       "3                                      0.087849   \n",
       "4                                      0.000000   \n",
       "\n",
       "   SRR5720322_1.fastq.gz Relative Abundance (%)  \\\n",
       "0                                     93.225800   \n",
       "1                                      0.000000   \n",
       "2                                      0.000000   \n",
       "3                                      0.052642   \n",
       "4                                      0.000000   \n",
       "\n",
       "   SRR5720327_1.fastq.gz Relative Abundance (%)  \\\n",
       "0                                     82.492400   \n",
       "1                                      0.000000   \n",
       "2                                      0.043655   \n",
       "3                                      0.091994   \n",
       "4                                      0.000000   \n",
       "\n",
       "   SRR5720332_1.fastq.gz Relative Abundance (%)  \\\n",
       "0                                     87.859900   \n",
       "1                                      0.000000   \n",
       "2                                      0.038832   \n",
       "3                                      0.075117   \n",
       "4                                      0.000000   \n",
       "\n",
       "   SRR5720337_1.fastq.gz Relative Abundance (%)  \\\n",
       "0                                     97.318350   \n",
       "1                                      0.000000   \n",
       "2                                      0.000000   \n",
       "3                                      0.029423   \n",
       "4                                      0.000000   \n",
       "\n",
       "   SRR5720338_1.fastq.gz Relative Abundance (%)  \\\n",
       "0                                        97.791   \n",
       "1                                         0.000   \n",
       "2                                         0.000   \n",
       "3                                         0.000   \n",
       "4                                         0.000   \n",
       "\n",
       "   SRR5720342_1.fastq.gz Relative Abundance (%)  \\\n",
       "0                                     89.058000   \n",
       "1                                      0.000000   \n",
       "2                                      0.000000   \n",
       "3                                      0.056989   \n",
       "4                                      0.000000   \n",
       "\n",
       "   SRR6507279_1.fastq.gz Relative Abundance (%)  \n",
       "0                                     71.355850  \n",
       "1                                      0.000000  \n",
       "2                                      0.070772  \n",
       "3                                      0.197780  \n",
       "4                                      0.000000  "
      ]
     },
     "execution_count": 3,
     "metadata": {},
     "output_type": "execute_result"
    }
   ],
   "source": [
    "# load the recruitment table and call it 'rdf' for 'recruitment dataframe'\n",
    "rdf = pd.read_csv(recruitment_table, sep = \"\\t\")\n",
    "rdf.head()"
   ]
  },
  {
   "cell_type": "markdown",
   "id": "0e0c052e-ea71-4ffe-ae5e-e0dcd9f43f5d",
   "metadata": {},
   "source": [
    "This is a data matrix with relative metagenomic abundance for columns, and SAGs for rows.  You'll notice there's also a row for unmapped reads.  \n",
    "\n",
    "The first thing I'm going to do with this table is clean up the column and row names so that they're easier to work with and match to the metadata tables.  \n",
    "\n",
    "For the metagenome columns, I want to only keep the SRA id (everything before the underscore).  "
   ]
  },
  {
   "cell_type": "code",
   "execution_count": 4,
   "id": "1d7874c4-4bdc-486c-86b6-5b60e4338756",
   "metadata": {},
   "outputs": [
    {
     "data": {
      "text/plain": [
       "Index(['Genome', 'SRR5720233_1.fastq.gz Relative Abundance (%)',\n",
       "       'SRR5720235_1.fastq.gz Relative Abundance (%)',\n",
       "       'SRR5720238_1.fastq.gz Relative Abundance (%)',\n",
       "       'SRR5720251_1.fastq.gz Relative Abundance (%)',\n",
       "       'SRR5720256_1.fastq.gz Relative Abundance (%)',\n",
       "       'SRR5720260_1.fastq.gz Relative Abundance (%)',\n",
       "       'SRR5720262_1.fastq.gz Relative Abundance (%)',\n",
       "       'SRR5720278_1.fastq.gz Relative Abundance (%)',\n",
       "       'SRR5720283_1.fastq.gz Relative Abundance (%)',\n",
       "       'SRR5720286_1.fastq.gz Relative Abundance (%)',\n",
       "       'SRR5720307_1.fastq.gz Relative Abundance (%)',\n",
       "       'SRR5720321_1.fastq.gz Relative Abundance (%)',\n",
       "       'SRR5720322_1.fastq.gz Relative Abundance (%)',\n",
       "       'SRR5720327_1.fastq.gz Relative Abundance (%)',\n",
       "       'SRR5720332_1.fastq.gz Relative Abundance (%)',\n",
       "       'SRR5720337_1.fastq.gz Relative Abundance (%)',\n",
       "       'SRR5720338_1.fastq.gz Relative Abundance (%)',\n",
       "       'SRR5720342_1.fastq.gz Relative Abundance (%)',\n",
       "       'SRR6507279_1.fastq.gz Relative Abundance (%)'],\n",
       "      dtype='object')"
      ]
     },
     "execution_count": 4,
     "metadata": {},
     "output_type": "execute_result"
    }
   ],
   "source": [
    "# checking column names\n",
    "\n",
    "rdf.columns"
   ]
  },
  {
   "cell_type": "code",
   "execution_count": 5,
   "id": "258c3499-d0cd-4dd1-b384-dce351ef4ec4",
   "metadata": {},
   "outputs": [
    {
     "data": {
      "text/plain": [
       "['Genome',\n",
       " 'SRR5720233',\n",
       " 'SRR5720235',\n",
       " 'SRR5720238',\n",
       " 'SRR5720251',\n",
       " 'SRR5720256',\n",
       " 'SRR5720260',\n",
       " 'SRR5720262',\n",
       " 'SRR5720278',\n",
       " 'SRR5720283',\n",
       " 'SRR5720286',\n",
       " 'SRR5720307',\n",
       " 'SRR5720321',\n",
       " 'SRR5720322',\n",
       " 'SRR5720327',\n",
       " 'SRR5720332',\n",
       " 'SRR5720337',\n",
       " 'SRR5720338',\n",
       " 'SRR5720342',\n",
       " 'SRR6507279']"
      ]
     },
     "execution_count": 5,
     "metadata": {},
     "output_type": "execute_result"
    }
   ],
   "source": [
    "# clean up column names\n",
    "\n",
    "new_colnames = [i if '_' not in i else i.split(\"_\")[0] for i in rdf.columns]\n",
    "new_colnames"
   ]
  },
  {
   "cell_type": "code",
   "execution_count": 6,
   "id": "3bb69dea-ded0-4d2b-8623-03ec5023d1fd",
   "metadata": {},
   "outputs": [
    {
     "data": {
      "text/html": [
       "<div>\n",
       "<style scoped>\n",
       "    .dataframe tbody tr th:only-of-type {\n",
       "        vertical-align: middle;\n",
       "    }\n",
       "\n",
       "    .dataframe tbody tr th {\n",
       "        vertical-align: top;\n",
       "    }\n",
       "\n",
       "    .dataframe thead th {\n",
       "        text-align: right;\n",
       "    }\n",
       "</style>\n",
       "<table border=\"1\" class=\"dataframe\">\n",
       "  <thead>\n",
       "    <tr style=\"text-align: right;\">\n",
       "      <th></th>\n",
       "      <th>Genome</th>\n",
       "      <th>SRR5720233</th>\n",
       "      <th>SRR5720235</th>\n",
       "      <th>SRR5720238</th>\n",
       "      <th>SRR5720251</th>\n",
       "      <th>SRR5720256</th>\n",
       "      <th>SRR5720260</th>\n",
       "      <th>SRR5720262</th>\n",
       "      <th>SRR5720278</th>\n",
       "      <th>SRR5720283</th>\n",
       "      <th>SRR5720286</th>\n",
       "      <th>SRR5720307</th>\n",
       "      <th>SRR5720321</th>\n",
       "      <th>SRR5720322</th>\n",
       "      <th>SRR5720327</th>\n",
       "      <th>SRR5720332</th>\n",
       "      <th>SRR5720337</th>\n",
       "      <th>SRR5720338</th>\n",
       "      <th>SRR5720342</th>\n",
       "      <th>SRR6507279</th>\n",
       "    </tr>\n",
       "  </thead>\n",
       "  <tbody>\n",
       "    <tr>\n",
       "      <th>0</th>\n",
       "      <td>unmapped</td>\n",
       "      <td>95.915300</td>\n",
       "      <td>74.883250</td>\n",
       "      <td>97.379456</td>\n",
       "      <td>86.402800</td>\n",
       "      <td>96.196500</td>\n",
       "      <td>75.034950</td>\n",
       "      <td>89.644950</td>\n",
       "      <td>89.561650</td>\n",
       "      <td>84.792946</td>\n",
       "      <td>67.258750</td>\n",
       "      <td>85.007200</td>\n",
       "      <td>79.603950</td>\n",
       "      <td>93.225800</td>\n",
       "      <td>82.492400</td>\n",
       "      <td>87.859900</td>\n",
       "      <td>97.318350</td>\n",
       "      <td>97.791</td>\n",
       "      <td>89.058000</td>\n",
       "      <td>71.355850</td>\n",
       "    </tr>\n",
       "    <tr>\n",
       "      <th>1</th>\n",
       "      <td>AG-910-I04_contigs</td>\n",
       "      <td>0.000000</td>\n",
       "      <td>0.000000</td>\n",
       "      <td>0.000000</td>\n",
       "      <td>0.000000</td>\n",
       "      <td>0.000000</td>\n",
       "      <td>0.000000</td>\n",
       "      <td>0.000000</td>\n",
       "      <td>0.000000</td>\n",
       "      <td>0.000000</td>\n",
       "      <td>0.000000</td>\n",
       "      <td>0.000000</td>\n",
       "      <td>0.000000</td>\n",
       "      <td>0.000000</td>\n",
       "      <td>0.000000</td>\n",
       "      <td>0.000000</td>\n",
       "      <td>0.000000</td>\n",
       "      <td>0.000</td>\n",
       "      <td>0.000000</td>\n",
       "      <td>0.000000</td>\n",
       "    </tr>\n",
       "    <tr>\n",
       "      <th>2</th>\n",
       "      <td>AG-910-N18_contigs</td>\n",
       "      <td>0.000000</td>\n",
       "      <td>0.051973</td>\n",
       "      <td>0.000000</td>\n",
       "      <td>0.039565</td>\n",
       "      <td>0.000000</td>\n",
       "      <td>0.000000</td>\n",
       "      <td>0.044398</td>\n",
       "      <td>0.039227</td>\n",
       "      <td>0.000000</td>\n",
       "      <td>0.034618</td>\n",
       "      <td>0.050800</td>\n",
       "      <td>0.000000</td>\n",
       "      <td>0.000000</td>\n",
       "      <td>0.043655</td>\n",
       "      <td>0.038832</td>\n",
       "      <td>0.000000</td>\n",
       "      <td>0.000</td>\n",
       "      <td>0.000000</td>\n",
       "      <td>0.070772</td>\n",
       "    </tr>\n",
       "    <tr>\n",
       "      <th>3</th>\n",
       "      <td>AG-910-L04_contigs</td>\n",
       "      <td>0.036017</td>\n",
       "      <td>0.141393</td>\n",
       "      <td>0.032294</td>\n",
       "      <td>0.076190</td>\n",
       "      <td>0.040551</td>\n",
       "      <td>0.139617</td>\n",
       "      <td>0.056892</td>\n",
       "      <td>0.055073</td>\n",
       "      <td>0.059614</td>\n",
       "      <td>0.130149</td>\n",
       "      <td>0.083268</td>\n",
       "      <td>0.087849</td>\n",
       "      <td>0.052642</td>\n",
       "      <td>0.091994</td>\n",
       "      <td>0.075117</td>\n",
       "      <td>0.029423</td>\n",
       "      <td>0.000</td>\n",
       "      <td>0.056989</td>\n",
       "      <td>0.197780</td>\n",
       "    </tr>\n",
       "    <tr>\n",
       "      <th>4</th>\n",
       "      <td>AG-910-N05_contigs</td>\n",
       "      <td>0.000000</td>\n",
       "      <td>0.000000</td>\n",
       "      <td>0.000000</td>\n",
       "      <td>0.000000</td>\n",
       "      <td>0.000000</td>\n",
       "      <td>0.000000</td>\n",
       "      <td>0.000000</td>\n",
       "      <td>0.000000</td>\n",
       "      <td>0.000000</td>\n",
       "      <td>0.000000</td>\n",
       "      <td>0.000000</td>\n",
       "      <td>0.000000</td>\n",
       "      <td>0.000000</td>\n",
       "      <td>0.000000</td>\n",
       "      <td>0.000000</td>\n",
       "      <td>0.000000</td>\n",
       "      <td>0.000</td>\n",
       "      <td>0.000000</td>\n",
       "      <td>0.000000</td>\n",
       "    </tr>\n",
       "  </tbody>\n",
       "</table>\n",
       "</div>"
      ],
      "text/plain": [
       "               Genome  SRR5720233  SRR5720235  SRR5720238  SRR5720251  \\\n",
       "0            unmapped   95.915300   74.883250   97.379456   86.402800   \n",
       "1  AG-910-I04_contigs    0.000000    0.000000    0.000000    0.000000   \n",
       "2  AG-910-N18_contigs    0.000000    0.051973    0.000000    0.039565   \n",
       "3  AG-910-L04_contigs    0.036017    0.141393    0.032294    0.076190   \n",
       "4  AG-910-N05_contigs    0.000000    0.000000    0.000000    0.000000   \n",
       "\n",
       "   SRR5720256  SRR5720260  SRR5720262  SRR5720278  SRR5720283  SRR5720286  \\\n",
       "0   96.196500   75.034950   89.644950   89.561650   84.792946   67.258750   \n",
       "1    0.000000    0.000000    0.000000    0.000000    0.000000    0.000000   \n",
       "2    0.000000    0.000000    0.044398    0.039227    0.000000    0.034618   \n",
       "3    0.040551    0.139617    0.056892    0.055073    0.059614    0.130149   \n",
       "4    0.000000    0.000000    0.000000    0.000000    0.000000    0.000000   \n",
       "\n",
       "   SRR5720307  SRR5720321  SRR5720322  SRR5720327  SRR5720332  SRR5720337  \\\n",
       "0   85.007200   79.603950   93.225800   82.492400   87.859900   97.318350   \n",
       "1    0.000000    0.000000    0.000000    0.000000    0.000000    0.000000   \n",
       "2    0.050800    0.000000    0.000000    0.043655    0.038832    0.000000   \n",
       "3    0.083268    0.087849    0.052642    0.091994    0.075117    0.029423   \n",
       "4    0.000000    0.000000    0.000000    0.000000    0.000000    0.000000   \n",
       "\n",
       "   SRR5720338  SRR5720342  SRR6507279  \n",
       "0      97.791   89.058000   71.355850  \n",
       "1       0.000    0.000000    0.000000  \n",
       "2       0.000    0.000000    0.070772  \n",
       "3       0.000    0.056989    0.197780  \n",
       "4       0.000    0.000000    0.000000  "
      ]
     },
     "execution_count": 6,
     "metadata": {},
     "output_type": "execute_result"
    }
   ],
   "source": [
    "rdf.columns = new_colnames\n",
    "rdf.head()"
   ]
  },
  {
   "cell_type": "markdown",
   "id": "9e5f8290-8df3-4d5b-94f5-60b0f03a2400",
   "metadata": {},
   "source": [
    "I next want to do the same thing for the 'genomes column'.  I will remove the '_contigs' suffix."
   ]
  },
  {
   "cell_type": "code",
   "execution_count": 7,
   "id": "e4430c1f-97ff-438c-95df-21adfa75d64f",
   "metadata": {},
   "outputs": [
    {
     "data": {
      "text/html": [
       "<div>\n",
       "<style scoped>\n",
       "    .dataframe tbody tr th:only-of-type {\n",
       "        vertical-align: middle;\n",
       "    }\n",
       "\n",
       "    .dataframe tbody tr th {\n",
       "        vertical-align: top;\n",
       "    }\n",
       "\n",
       "    .dataframe thead th {\n",
       "        text-align: right;\n",
       "    }\n",
       "</style>\n",
       "<table border=\"1\" class=\"dataframe\">\n",
       "  <thead>\n",
       "    <tr style=\"text-align: right;\">\n",
       "      <th></th>\n",
       "      <th>Genome</th>\n",
       "      <th>SRR5720233</th>\n",
       "      <th>SRR5720235</th>\n",
       "      <th>SRR5720238</th>\n",
       "      <th>SRR5720251</th>\n",
       "      <th>SRR5720256</th>\n",
       "      <th>SRR5720260</th>\n",
       "      <th>SRR5720262</th>\n",
       "      <th>SRR5720278</th>\n",
       "      <th>SRR5720283</th>\n",
       "      <th>SRR5720286</th>\n",
       "      <th>SRR5720307</th>\n",
       "      <th>SRR5720321</th>\n",
       "      <th>SRR5720322</th>\n",
       "      <th>SRR5720327</th>\n",
       "      <th>SRR5720332</th>\n",
       "      <th>SRR5720337</th>\n",
       "      <th>SRR5720338</th>\n",
       "      <th>SRR5720342</th>\n",
       "      <th>SRR6507279</th>\n",
       "    </tr>\n",
       "  </thead>\n",
       "  <tbody>\n",
       "    <tr>\n",
       "      <th>0</th>\n",
       "      <td>unmapped</td>\n",
       "      <td>95.915300</td>\n",
       "      <td>74.883250</td>\n",
       "      <td>97.379456</td>\n",
       "      <td>86.402800</td>\n",
       "      <td>96.196500</td>\n",
       "      <td>75.034950</td>\n",
       "      <td>89.644950</td>\n",
       "      <td>89.561650</td>\n",
       "      <td>84.792946</td>\n",
       "      <td>67.258750</td>\n",
       "      <td>85.007200</td>\n",
       "      <td>79.603950</td>\n",
       "      <td>93.225800</td>\n",
       "      <td>82.492400</td>\n",
       "      <td>87.859900</td>\n",
       "      <td>97.318350</td>\n",
       "      <td>97.791</td>\n",
       "      <td>89.058000</td>\n",
       "      <td>71.355850</td>\n",
       "    </tr>\n",
       "    <tr>\n",
       "      <th>1</th>\n",
       "      <td>AG-910-I04</td>\n",
       "      <td>0.000000</td>\n",
       "      <td>0.000000</td>\n",
       "      <td>0.000000</td>\n",
       "      <td>0.000000</td>\n",
       "      <td>0.000000</td>\n",
       "      <td>0.000000</td>\n",
       "      <td>0.000000</td>\n",
       "      <td>0.000000</td>\n",
       "      <td>0.000000</td>\n",
       "      <td>0.000000</td>\n",
       "      <td>0.000000</td>\n",
       "      <td>0.000000</td>\n",
       "      <td>0.000000</td>\n",
       "      <td>0.000000</td>\n",
       "      <td>0.000000</td>\n",
       "      <td>0.000000</td>\n",
       "      <td>0.000</td>\n",
       "      <td>0.000000</td>\n",
       "      <td>0.000000</td>\n",
       "    </tr>\n",
       "    <tr>\n",
       "      <th>2</th>\n",
       "      <td>AG-910-N18</td>\n",
       "      <td>0.000000</td>\n",
       "      <td>0.051973</td>\n",
       "      <td>0.000000</td>\n",
       "      <td>0.039565</td>\n",
       "      <td>0.000000</td>\n",
       "      <td>0.000000</td>\n",
       "      <td>0.044398</td>\n",
       "      <td>0.039227</td>\n",
       "      <td>0.000000</td>\n",
       "      <td>0.034618</td>\n",
       "      <td>0.050800</td>\n",
       "      <td>0.000000</td>\n",
       "      <td>0.000000</td>\n",
       "      <td>0.043655</td>\n",
       "      <td>0.038832</td>\n",
       "      <td>0.000000</td>\n",
       "      <td>0.000</td>\n",
       "      <td>0.000000</td>\n",
       "      <td>0.070772</td>\n",
       "    </tr>\n",
       "    <tr>\n",
       "      <th>3</th>\n",
       "      <td>AG-910-L04</td>\n",
       "      <td>0.036017</td>\n",
       "      <td>0.141393</td>\n",
       "      <td>0.032294</td>\n",
       "      <td>0.076190</td>\n",
       "      <td>0.040551</td>\n",
       "      <td>0.139617</td>\n",
       "      <td>0.056892</td>\n",
       "      <td>0.055073</td>\n",
       "      <td>0.059614</td>\n",
       "      <td>0.130149</td>\n",
       "      <td>0.083268</td>\n",
       "      <td>0.087849</td>\n",
       "      <td>0.052642</td>\n",
       "      <td>0.091994</td>\n",
       "      <td>0.075117</td>\n",
       "      <td>0.029423</td>\n",
       "      <td>0.000</td>\n",
       "      <td>0.056989</td>\n",
       "      <td>0.197780</td>\n",
       "    </tr>\n",
       "    <tr>\n",
       "      <th>4</th>\n",
       "      <td>AG-910-N05</td>\n",
       "      <td>0.000000</td>\n",
       "      <td>0.000000</td>\n",
       "      <td>0.000000</td>\n",
       "      <td>0.000000</td>\n",
       "      <td>0.000000</td>\n",
       "      <td>0.000000</td>\n",
       "      <td>0.000000</td>\n",
       "      <td>0.000000</td>\n",
       "      <td>0.000000</td>\n",
       "      <td>0.000000</td>\n",
       "      <td>0.000000</td>\n",
       "      <td>0.000000</td>\n",
       "      <td>0.000000</td>\n",
       "      <td>0.000000</td>\n",
       "      <td>0.000000</td>\n",
       "      <td>0.000000</td>\n",
       "      <td>0.000</td>\n",
       "      <td>0.000000</td>\n",
       "      <td>0.000000</td>\n",
       "    </tr>\n",
       "  </tbody>\n",
       "</table>\n",
       "</div>"
      ],
      "text/plain": [
       "       Genome  SRR5720233  SRR5720235  SRR5720238  SRR5720251  SRR5720256  \\\n",
       "0    unmapped   95.915300   74.883250   97.379456   86.402800   96.196500   \n",
       "1  AG-910-I04    0.000000    0.000000    0.000000    0.000000    0.000000   \n",
       "2  AG-910-N18    0.000000    0.051973    0.000000    0.039565    0.000000   \n",
       "3  AG-910-L04    0.036017    0.141393    0.032294    0.076190    0.040551   \n",
       "4  AG-910-N05    0.000000    0.000000    0.000000    0.000000    0.000000   \n",
       "\n",
       "   SRR5720260  SRR5720262  SRR5720278  SRR5720283  SRR5720286  SRR5720307  \\\n",
       "0   75.034950   89.644950   89.561650   84.792946   67.258750   85.007200   \n",
       "1    0.000000    0.000000    0.000000    0.000000    0.000000    0.000000   \n",
       "2    0.000000    0.044398    0.039227    0.000000    0.034618    0.050800   \n",
       "3    0.139617    0.056892    0.055073    0.059614    0.130149    0.083268   \n",
       "4    0.000000    0.000000    0.000000    0.000000    0.000000    0.000000   \n",
       "\n",
       "   SRR5720321  SRR5720322  SRR5720327  SRR5720332  SRR5720337  SRR5720338  \\\n",
       "0   79.603950   93.225800   82.492400   87.859900   97.318350      97.791   \n",
       "1    0.000000    0.000000    0.000000    0.000000    0.000000       0.000   \n",
       "2    0.000000    0.000000    0.043655    0.038832    0.000000       0.000   \n",
       "3    0.087849    0.052642    0.091994    0.075117    0.029423       0.000   \n",
       "4    0.000000    0.000000    0.000000    0.000000    0.000000       0.000   \n",
       "\n",
       "   SRR5720342  SRR6507279  \n",
       "0   89.058000   71.355850  \n",
       "1    0.000000    0.000000  \n",
       "2    0.000000    0.070772  \n",
       "3    0.056989    0.197780  \n",
       "4    0.000000    0.000000  "
      ]
     },
     "execution_count": 7,
     "metadata": {},
     "output_type": "execute_result"
    }
   ],
   "source": [
    "rdf['Genome'] = [i.replace('_contigs','') for i in rdf['Genome']]\n",
    "rdf.head()"
   ]
  },
  {
   "cell_type": "markdown",
   "id": "36f2b5f9-1ba9-423b-a4c4-1eac4d6a4347",
   "metadata": {},
   "source": [
    "Finally, I want to melt the table so that each row is a single observation.  This will be help for data matching and merging."
   ]
  },
  {
   "cell_type": "code",
   "execution_count": 8,
   "id": "1813b94e-60fa-4673-a787-62ad1d14dbc2",
   "metadata": {},
   "outputs": [
    {
     "data": {
      "text/html": [
       "<div>\n",
       "<style scoped>\n",
       "    .dataframe tbody tr th:only-of-type {\n",
       "        vertical-align: middle;\n",
       "    }\n",
       "\n",
       "    .dataframe tbody tr th {\n",
       "        vertical-align: top;\n",
       "    }\n",
       "\n",
       "    .dataframe thead th {\n",
       "        text-align: right;\n",
       "    }\n",
       "</style>\n",
       "<table border=\"1\" class=\"dataframe\">\n",
       "  <thead>\n",
       "    <tr style=\"text-align: right;\">\n",
       "      <th></th>\n",
       "      <th>Genome</th>\n",
       "      <th>metagenome</th>\n",
       "      <th>perc_rel_abund</th>\n",
       "    </tr>\n",
       "  </thead>\n",
       "  <tbody>\n",
       "    <tr>\n",
       "      <th>0</th>\n",
       "      <td>unmapped</td>\n",
       "      <td>SRR5720233</td>\n",
       "      <td>95.915300</td>\n",
       "    </tr>\n",
       "    <tr>\n",
       "      <th>1</th>\n",
       "      <td>AG-910-I04</td>\n",
       "      <td>SRR5720233</td>\n",
       "      <td>0.000000</td>\n",
       "    </tr>\n",
       "    <tr>\n",
       "      <th>2</th>\n",
       "      <td>AG-910-N18</td>\n",
       "      <td>SRR5720233</td>\n",
       "      <td>0.000000</td>\n",
       "    </tr>\n",
       "    <tr>\n",
       "      <th>3</th>\n",
       "      <td>AG-910-L04</td>\n",
       "      <td>SRR5720233</td>\n",
       "      <td>0.036017</td>\n",
       "    </tr>\n",
       "    <tr>\n",
       "      <th>4</th>\n",
       "      <td>AG-910-N05</td>\n",
       "      <td>SRR5720233</td>\n",
       "      <td>0.000000</td>\n",
       "    </tr>\n",
       "  </tbody>\n",
       "</table>\n",
       "</div>"
      ],
      "text/plain": [
       "       Genome  metagenome  perc_rel_abund\n",
       "0    unmapped  SRR5720233       95.915300\n",
       "1  AG-910-I04  SRR5720233        0.000000\n",
       "2  AG-910-N18  SRR5720233        0.000000\n",
       "3  AG-910-L04  SRR5720233        0.036017\n",
       "4  AG-910-N05  SRR5720233        0.000000"
      ]
     },
     "execution_count": 8,
     "metadata": {},
     "output_type": "execute_result"
    }
   ],
   "source": [
    "rdf_melt = rdf.melt(id_vars = 'Genome', var_name = 'metagenome',value_name = 'perc_rel_abund')\n",
    "rdf_melt.head()"
   ]
  },
  {
   "cell_type": "markdown",
   "id": "f5412871-282f-4b22-bf83-5512b02e3fa4",
   "metadata": {},
   "source": [
    "Now let's load the metagenome metadata:"
   ]
  },
  {
   "cell_type": "code",
   "execution_count": 12,
   "id": "ca967dae-f2f6-4d9b-89a8-4958d54cb159",
   "metadata": {},
   "outputs": [],
   "source": [
    "mg_metadata = pd.read_csv(metagenome_metadata)\n",
    "mg_metadata = mg_metadata[mg_metadata['downloaded'] == 'yes'].copy()\n",
    "\n",
    "#append 'mg' to column names for table merging:\n",
    "\n",
    "mg_metadata.columns = ['mg_' + i for i in mg_metadata.columns]"
   ]
  },
  {
   "cell_type": "code",
   "execution_count": 13,
   "id": "19db7140-5d50-46bc-8dea-45a86f5e5de6",
   "metadata": {},
   "outputs": [
    {
     "name": "stdout",
     "output_type": "stream",
     "text": [
      "metadata columns:\n",
      " Index(['mg_Run', 'mg_Collection_date', 'mg_cruise_id', 'mg_BioSample',\n",
      "       'mg_Depth', 'mg_downloaded'],\n",
      "      dtype='object')\n"
     ]
    }
   ],
   "source": [
    "print(\"metadata columns:\\n\", mg_metadata.columns)"
   ]
  },
  {
   "cell_type": "code",
   "execution_count": 14,
   "id": "ecf9eff3-0ba8-424e-83fe-4d96cd15876a",
   "metadata": {},
   "outputs": [
    {
     "name": "stdout",
     "output_type": "stream",
     "text": [
      "4313 4313\n"
     ]
    }
   ],
   "source": [
    "bdf = rdf_melt.merge(mg_metadata, left_on = 'metagenome', right_on = 'mg_Run', how = 'left')\n",
    "\n",
    "# check to see that there are the same number of rows in the old and new dataframe\n",
    "print(len(rdf_melt), len(bdf))"
   ]
  },
  {
   "cell_type": "markdown",
   "id": "dd42e048-b580-4c19-8638-353e4fa3468c",
   "metadata": {},
   "source": [
    "OK, let's plot!  First, let's look at how well these SAGs represented these metagenomes by looking at the distribution of unmapped reads:"
   ]
  },
  {
   "cell_type": "code",
   "execution_count": 15,
   "id": "c50e216e-7152-4fb0-b3ae-9f55a1606623",
   "metadata": {},
   "outputs": [
    {
     "data": {
      "text/plain": [
       "Index(['Genome', 'metagenome', 'perc_rel_abund', 'mg_Run',\n",
       "       'mg_Collection_date', 'mg_cruise_id', 'mg_BioSample', 'mg_Depth',\n",
       "       'mg_downloaded'],\n",
       "      dtype='object')"
      ]
     },
     "execution_count": 15,
     "metadata": {},
     "output_type": "execute_result"
    }
   ],
   "source": [
    "bdf.columns"
   ]
  },
  {
   "cell_type": "code",
   "execution_count": 16,
   "id": "8b14b82b-6053-47ff-8e1b-95b19f2b28be",
   "metadata": {},
   "outputs": [
    {
     "data": {
      "image/png": "[encoded data removed]",
      "text/plain": [
       "<Figure size 432x288 with 1 Axes>"
      ]
     },
     "metadata": {
      "needs_background": "light"
     },
     "output_type": "display_data"
    }
   ],
   "source": [
    "plot_df = bdf[bdf['Genome'] == 'unmapped']\n",
    "\n",
    "sns.histplot(100 - plot_df['perc_rel_abund'])\n",
    "\n",
    "plt.xlabel('Percent metagenomic relative abundance')\n",
    "plt.ylabel('Metagenomic Sample Count')\n",
    "plt.title('Representation of all SAGs on plate AG-910')\n",
    "plt.show()"
   ]
  },
  {
   "cell_type": "markdown",
   "id": "b369722c-29d9-4829-8c8f-4ea2c00d40f3",
   "metadata": {},
   "source": [
    "Looks like variable success recuiting metagenomic reads to SAGs on this plate. "
   ]
  },
  {
   "cell_type": "code",
   "execution_count": 17,
   "id": "81a12e5b-8c29-45ae-b164-1b5015922aaa",
   "metadata": {},
   "outputs": [
    {
     "data": {
      "text/plain": [
       "Counter({'1m': 14, '10m': 5})"
      ]
     },
     "execution_count": 17,
     "metadata": {},
     "output_type": "execute_result"
    }
   ],
   "source": [
    "# Check how many samples we have at each depth:\n",
    "Counter(mg_metadata['mg_Depth'])"
   ]
  },
  {
   "cell_type": "markdown",
   "id": "2744fce6-12ff-40d2-b9b3-8ccb4bab5cab",
   "metadata": {},
   "source": [
    "How does relative representation vary by collection date?\n",
    "\n",
    "First we need to format collection date in our dataframe so that we can plot it.  It is currently in this format:"
   ]
  },
  {
   "cell_type": "code",
   "execution_count": 18,
   "id": "c15d787a-ab13-4e85-8dd8-09c8bfa67813",
   "metadata": {},
   "outputs": [
    {
     "data": {
      "text/plain": [
       "0       2003-02-21\n",
       "1       2003-02-21\n",
       "2       2003-02-21\n",
       "3       2003-02-21\n",
       "4       2003-02-21\n",
       "           ...    \n",
       "4308    2009-07-14\n",
       "4309    2009-07-14\n",
       "4310    2009-07-14\n",
       "4311    2009-07-14\n",
       "4312    2009-07-14\n",
       "Name: mg_Collection_date, Length: 4313, dtype: object"
      ]
     },
     "execution_count": 18,
     "metadata": {},
     "output_type": "execute_result"
    }
   ],
   "source": [
    "bdf['mg_Collection_date']"
   ]
  },
  {
   "cell_type": "code",
   "execution_count": 19,
   "id": "06cb950b-fcda-4e62-84c9-37b717f82b3b",
   "metadata": {},
   "outputs": [
    {
     "name": "stdout",
     "output_type": "stream",
     "text": [
      "<class 'pandas.core.frame.DataFrame'>\n",
      "Int64Index: 4313 entries, 0 to 4312\n",
      "Data columns (total 12 columns):\n",
      " #   Column              Non-Null Count  Dtype         \n",
      "---  ------              --------------  -----         \n",
      " 0   Genome              4313 non-null   object        \n",
      " 1   metagenome          4313 non-null   object        \n",
      " 2   perc_rel_abund      4313 non-null   float64       \n",
      " 3   mg_Run              4313 non-null   object        \n",
      " 4   mg_Collection_date  4313 non-null   datetime64[ns]\n",
      " 5   mg_cruise_id        4313 non-null   object        \n",
      " 6   mg_BioSample        4313 non-null   object        \n",
      " 7   mg_Depth            4313 non-null   object        \n",
      " 8   mg_downloaded       4313 non-null   object        \n",
      " 9   mg_year             4313 non-null   object        \n",
      " 10  mg_month            4313 non-null   int64         \n",
      " 11  mg_day              4313 non-null   int64         \n",
      "dtypes: datetime64[ns](1), float64(1), int64(2), object(8)\n",
      "memory usage: 438.0+ KB\n"
     ]
    }
   ],
   "source": [
    "# split date by year, month, day\n",
    "bdf[['mg_year','mg_month','mg_day']] = bdf['mg_Collection_date'].str.split(\"-\", expand = True)\n",
    "\n",
    "# making month and day columns numeric (I want to keep year categorical, as there are only 3 different years examined)\n",
    "bdf[['mg_month','mg_day']] = bdf[['mg_month','mg_day']].apply(pd.to_numeric)\n",
    "\n",
    "# finally, converting the original date column to date format (not actually necessary, just showing how to do it)\n",
    "bdf['mg_Collection_date'] = pd.to_datetime(bdf['mg_Collection_date'])\n",
    "\n",
    "bdf.info()"
   ]
  },
  {
   "cell_type": "markdown",
   "id": "94c62005-d587-42b6-9997-6ca09b6ce9df",
   "metadata": {},
   "source": [
    "Plotting abundance by date:"
   ]
  },
  {
   "cell_type": "code",
   "execution_count": 20,
   "id": "ad35dfbe-a807-4011-afd7-2528d8207ee2",
   "metadata": {},
   "outputs": [
    {
     "data": {
      "text/plain": [
       "<AxesSubplot:xlabel='mg_Collection_date', ylabel='perc_rel_abund'>"
      ]
     },
     "execution_count": 20,
     "metadata": {},
     "output_type": "execute_result"
    },
    {
     "data": {
      "image/png": "[encoded data removed]",
      "text/plain": [
       "<Figure size 432x288 with 1 Axes>"
      ]
     },
     "metadata": {
      "needs_background": "light"
     },
     "output_type": "display_data"
    }
   ],
   "source": [
    "# quick and dirty:\n",
    "\n",
    "plot_df = bdf[(bdf['Genome'] == 'unmapped') & (bdf['mg_year'] != '2009')]\n",
    "\n",
    "sns.lineplot(x = 'mg_Collection_date', y = 100 - plot_df['perc_rel_abund'], data = plot_df)\n"
   ]
  },
  {
   "cell_type": "code",
   "execution_count": 21,
   "id": "2a5dcd5c-a870-40ec-97e0-502bc3a1ae6c",
   "metadata": {},
   "outputs": [
    {
     "data": {
      "image/png": "[encoded data removed]",
      "text/plain": [
       "<Figure size 576x360 with 1 Axes>"
      ]
     },
     "metadata": {
      "needs_background": "light"
     },
     "output_type": "display_data"
    }
   ],
   "source": [
    "# A little nicer looking\n",
    "\n",
    "fig, ax = plt.subplots(figsize=(8,5))\n",
    "\n",
    "plot_df = bdf[(bdf['Genome'] == 'unmapped') & (bdf['mg_year'] != '2009')]\n",
    "\n",
    "sns.lineplot(x = 'mg_Collection_date', y = 100 - plot_df['perc_rel_abund'], data = plot_df, ax = ax)\n",
    "\n",
    "ax.set(xlabel=\"Date\",\n",
    "       ylabel=\"Relative metagenomic abundance (%)\",\n",
    "       title=\"AG-910 metagenomic representation\")\n",
    "\n",
    "# Define the date format\n",
    "date_form = DateFormatter(\"%m-%y\")\n",
    "ax.xaxis.set_major_formatter(date_form)\n"
   ]
  },
  {
   "cell_type": "markdown",
   "id": "c163e52f-7113-482f-8c15-16f46b044737",
   "metadata": {},
   "source": [
    "Overlay relative abundance by Month:"
   ]
  },
  {
   "cell_type": "code",
   "execution_count": 22,
   "id": "cad4c2d2-9f97-49ba-8c40-048f9ab03c0e",
   "metadata": {},
   "outputs": [
    {
     "data": {
      "image/png": "[encoded data removed]",
      "text/plain": [
       "<Figure size 576x360 with 1 Axes>"
      ]
     },
     "metadata": {
      "needs_background": "light"
     },
     "output_type": "display_data"
    }
   ],
   "source": [
    "plot_df = bdf[(bdf['Genome'] == 'unmapped')]\n",
    "\n",
    "fig, ax = plt.subplots(figsize=(8,5))\n",
    "\n",
    "sns.lineplot(x = 'mg_month', \n",
    "             y = 100 - plot_df['perc_rel_abund'], \n",
    "             hue = 'mg_year',\n",
    "             style = 'mg_year',\n",
    "             data = plot_df,\n",
    "            markers = True, \n",
    "            ax = ax)\n",
    "\n",
    "ax.set(xlabel=\"Date\",\n",
    "       ylabel=\"Relative metagenomic abundance (%)\",\n",
    "       title=\"AG-910 metagenomic representation\")\n",
    "plt.show()"
   ]
  },
  {
   "cell_type": "markdown",
   "id": "9e361281-dafa-4cde-bee2-a5805481ba6c",
   "metadata": {},
   "source": [
    "Was there a difference in sampling depth?  When were metagenomes sampled from 10m?\n",
    "\n",
    "Let's check up on sampling depth by highlighting those metagenomic timepoints that were sampled at 10m."
   ]
  },
  {
   "cell_type": "code",
   "execution_count": 23,
   "id": "6a6210e9-a988-4041-b7e4-e4b6f785fb4f",
   "metadata": {},
   "outputs": [
    {
     "data": {
      "image/png": "[encoded data removed]",
      "text/plain": [
       "<Figure size 576x360 with 1 Axes>"
      ]
     },
     "metadata": {
      "needs_background": "light"
     },
     "output_type": "display_data"
    }
   ],
   "source": [
    "plot_df = bdf[(bdf['Genome'] == 'unmapped')]\n",
    "\n",
    "fig, ax = plt.subplots(figsize=(8,5))\n",
    "\n",
    "sns.lineplot(x = 'mg_month', \n",
    "             y = 100 - plot_df['perc_rel_abund'], \n",
    "             hue = 'mg_year',\n",
    "             style = 'mg_year',\n",
    "             data = plot_df,\n",
    "            markers = True,\n",
    "            ax = ax)\n",
    "\n",
    "# want to highlight samples that came from 10m depth\n",
    "plot_df2 = bdf[(bdf['Genome'] == 'unmapped') & (bdf['mg_Depth'] == '10m')]\n",
    "\n",
    "sns.scatterplot(x = 'mg_month', \n",
    "             y = 100 - plot_df['perc_rel_abund'], \n",
    "             s = 200,\n",
    "            color = 'gray',\n",
    "             alpha = 0.5,\n",
    "             data = plot_df2,\n",
    "            markers = True,\n",
    "               ax = ax)\n",
    "\n",
    "ax.set(xlabel=\"Date\",\n",
    "       ylabel=\"Relative metagenomic abundance (%)\",\n",
    "       title=\"AG-910 metagenomic representation\")\n",
    "\n",
    "plt.show()"
   ]
  },
  {
   "cell_type": "code",
   "execution_count": 64,
   "id": "fb8b153a-0642-4620-976b-7f32662cc9c3",
   "metadata": {},
   "outputs": [
    {
     "data": {
      "image/png": "[encoded data removed]",
      "text/plain": [
       "<Figure size 432x288 with 1 Axes>"
      ]
     },
     "metadata": {
      "needs_background": "light"
     },
     "output_type": "display_data"
    }
   ],
   "source": [
    "# Boxplot of metagenomic read recruitment by depth for all SAGs on plate\n",
    "\n",
    "plot_df = bdf[bdf['Genome'] == 'unmapped']\n",
    "\n",
    "sns.boxplot(x = plot_df['mg_Depth'], y = 100 - plot_df['perc_rel_abund'])\n",
    "\n",
    "plt.ylabel('Percent metagenomic relative abundance')\n",
    "plt.xlabel('Metagenome Sampling Depth')\n",
    "plt.title('Metagenomic Recruitment to Plate AG-910')\n",
    "\n",
    "plt.show()"
   ]
  },
  {
   "cell_type": "markdown",
   "id": "6085fa6e-b449-4c1c-8aa8-539e0c4c3c04",
   "metadata": {},
   "source": [
    "One thing to note about running coverM on all SAGs at the same time is that you get an estimate of community abundance.  Metagenomic reads are competitively recruited. That is to say, if you have two very similar genomes and a read that matches both, it will only be counted once. As such, running CoverM on all cells as inputs in the same run will not return an 'individual's' abundance. \n",
    "\n",
    "If we sum the percent abundances per metagenomic run in the output table we're working with, you can see what I mean:"
   ]
  },
  {
   "cell_type": "code",
   "execution_count": 29,
   "id": "a6268fac-6095-4cd1-a792-22fcf947854a",
   "metadata": {},
   "outputs": [
    {
     "data": {
      "text/plain": [
       "mg_Run\n",
       "SRR5720233    100.000000\n",
       "SRR5720235     99.999995\n",
       "SRR5720238    100.000006\n",
       "SRR5720251    100.000002\n",
       "SRR5720256    100.000001\n",
       "SRR5720260    100.000003\n",
       "SRR5720262    100.000002\n",
       "SRR5720278    100.000000\n",
       "SRR5720283     99.999994\n",
       "SRR5720286     99.999994\n",
       "SRR5720307    100.000002\n",
       "SRR5720321     99.999999\n",
       "SRR5720322    100.000000\n",
       "SRR5720327     99.999999\n",
       "SRR5720332    100.000002\n",
       "SRR5720337    100.000000\n",
       "SRR5720338    100.000000\n",
       "SRR5720342    100.000002\n",
       "SRR6507279     99.999999\n",
       "Name: perc_rel_abund, dtype: float64"
      ]
     },
     "execution_count": 29,
     "metadata": {},
     "output_type": "execute_result"
    }
   ],
   "source": [
    "bdf.groupby(['mg_Run'])['perc_rel_abund'].sum()"
   ]
  },
  {
   "cell_type": "markdown",
   "id": "e0e6651b-2f1b-4c8f-9837-614d2b70e9d9",
   "metadata": {},
   "source": [
    "So looking at individual SAG abundances with these outputs is not going to be too informative if there are related genomes on the plate.  A more informative look would be to examine relative abundances of groups based on taxonomy.  Let's import the GTDBtk results."
   ]
  },
  {
   "cell_type": "code",
   "execution_count": 32,
   "id": "27aba910-935f-4a8b-8ce3-70048414211f",
   "metadata": {},
   "outputs": [],
   "source": [
    "gtdb = pd.read_csv(\"./data/AG-910_GTDB_classifications.csv\")"
   ]
  },
  {
   "cell_type": "code",
   "execution_count": 34,
   "id": "1d0b9d56-4a49-40f3-a1e6-11f773d04d31",
   "metadata": {},
   "outputs": [
    {
     "data": {
      "text/html": [
       "<div>\n",
       "<style scoped>\n",
       "    .dataframe tbody tr th:only-of-type {\n",
       "        vertical-align: middle;\n",
       "    }\n",
       "\n",
       "    .dataframe tbody tr th {\n",
       "        vertical-align: top;\n",
       "    }\n",
       "\n",
       "    .dataframe thead th {\n",
       "        text-align: right;\n",
       "    }\n",
       "</style>\n",
       "<table border=\"1\" class=\"dataframe\">\n",
       "  <thead>\n",
       "    <tr style=\"text-align: right;\">\n",
       "      <th></th>\n",
       "      <th>Unnamed: 0</th>\n",
       "      <th>SAG</th>\n",
       "      <th>GTDBtk_classification</th>\n",
       "      <th>classification_method</th>\n",
       "      <th>warnings</th>\n",
       "      <th>domain</th>\n",
       "      <th>phyla</th>\n",
       "      <th>class</th>\n",
       "      <th>order</th>\n",
       "      <th>family</th>\n",
       "      <th>genus</th>\n",
       "      <th>species</th>\n",
       "    </tr>\n",
       "  </thead>\n",
       "  <tbody>\n",
       "    <tr>\n",
       "      <th>0</th>\n",
       "      <td>0</td>\n",
       "      <td>AG-910-A02</td>\n",
       "      <td>d__Bacteria;p__Proteobacteria;c__Gammaproteoba...</td>\n",
       "      <td>taxonomic classification defined by topology a...</td>\n",
       "      <td>NaN</td>\n",
       "      <td>d__Bacteria</td>\n",
       "      <td>p__Proteobacteria</td>\n",
       "      <td>c__Gammaproteobacteria</td>\n",
       "      <td>o__SAR86</td>\n",
       "      <td>f__TMED112</td>\n",
       "      <td>g__TMED112</td>\n",
       "      <td>s__TMED112 sp003280455</td>\n",
       "    </tr>\n",
       "    <tr>\n",
       "      <th>1</th>\n",
       "      <td>1</td>\n",
       "      <td>AG-910-A04</td>\n",
       "      <td>d__Bacteria;p__Actinobacteriota;c__Acidimicrob...</td>\n",
       "      <td>taxonomic classification defined by topology a...</td>\n",
       "      <td>NaN</td>\n",
       "      <td>d__Bacteria</td>\n",
       "      <td>p__Actinobacteriota</td>\n",
       "      <td>c__Acidimicrobiia</td>\n",
       "      <td>o__Actinomarinales</td>\n",
       "      <td>f__Actinomarinaceae</td>\n",
       "      <td>g__Actinomarina</td>\n",
       "      <td>s__Actinomarina sp902615855</td>\n",
       "    </tr>\n",
       "    <tr>\n",
       "      <th>2</th>\n",
       "      <td>2</td>\n",
       "      <td>AG-910-A06</td>\n",
       "      <td>d__Bacteria;p__Proteobacteria;c__Alphaproteoba...</td>\n",
       "      <td>taxonomic classification defined by topology a...</td>\n",
       "      <td>NaN</td>\n",
       "      <td>d__Bacteria</td>\n",
       "      <td>p__Proteobacteria</td>\n",
       "      <td>c__Alphaproteobacteria</td>\n",
       "      <td>o__Pelagibacterales</td>\n",
       "      <td>f__Pelagibacteraceae</td>\n",
       "      <td>g__Pelagibacter</td>\n",
       "      <td>s__Pelagibacter sp902567045</td>\n",
       "    </tr>\n",
       "    <tr>\n",
       "      <th>3</th>\n",
       "      <td>3</td>\n",
       "      <td>AG-910-A10</td>\n",
       "      <td>d__Bacteria;p__Proteobacteria;c__Gammaproteoba...</td>\n",
       "      <td>taxonomic classification defined by topology a...</td>\n",
       "      <td>NaN</td>\n",
       "      <td>d__Bacteria</td>\n",
       "      <td>p__Proteobacteria</td>\n",
       "      <td>c__Gammaproteobacteria</td>\n",
       "      <td>o__SAR86</td>\n",
       "      <td>f__D2472</td>\n",
       "      <td>g__CACNXK01</td>\n",
       "      <td>s__CACNXK01 sp902518715</td>\n",
       "    </tr>\n",
       "    <tr>\n",
       "      <th>4</th>\n",
       "      <td>4</td>\n",
       "      <td>AG-910-A13</td>\n",
       "      <td>d__Bacteria;p__Proteobacteria;c__Gammaproteoba...</td>\n",
       "      <td>taxonomic classification defined by topology a...</td>\n",
       "      <td>NaN</td>\n",
       "      <td>d__Bacteria</td>\n",
       "      <td>p__Proteobacteria</td>\n",
       "      <td>c__Gammaproteobacteria</td>\n",
       "      <td>o__GCA-002705445</td>\n",
       "      <td>f__GCA-002705445</td>\n",
       "      <td>g__GCA-2702235</td>\n",
       "      <td>s__GCA-2702235 sp002702235</td>\n",
       "    </tr>\n",
       "  </tbody>\n",
       "</table>\n",
       "</div>"
      ],
      "text/plain": [
       "   Unnamed: 0         SAG                              GTDBtk_classification  \\\n",
       "0           0  AG-910-A02  d__Bacteria;p__Proteobacteria;c__Gammaproteoba...   \n",
       "1           1  AG-910-A04  d__Bacteria;p__Actinobacteriota;c__Acidimicrob...   \n",
       "2           2  AG-910-A06  d__Bacteria;p__Proteobacteria;c__Alphaproteoba...   \n",
       "3           3  AG-910-A10  d__Bacteria;p__Proteobacteria;c__Gammaproteoba...   \n",
       "4           4  AG-910-A13  d__Bacteria;p__Proteobacteria;c__Gammaproteoba...   \n",
       "\n",
       "                               classification_method warnings       domain  \\\n",
       "0  taxonomic classification defined by topology a...      NaN  d__Bacteria   \n",
       "1  taxonomic classification defined by topology a...      NaN  d__Bacteria   \n",
       "2  taxonomic classification defined by topology a...      NaN  d__Bacteria   \n",
       "3  taxonomic classification defined by topology a...      NaN  d__Bacteria   \n",
       "4  taxonomic classification defined by topology a...      NaN  d__Bacteria   \n",
       "\n",
       "                 phyla                   class                order  \\\n",
       "0    p__Proteobacteria  c__Gammaproteobacteria             o__SAR86   \n",
       "1  p__Actinobacteriota       c__Acidimicrobiia   o__Actinomarinales   \n",
       "2    p__Proteobacteria  c__Alphaproteobacteria  o__Pelagibacterales   \n",
       "3    p__Proteobacteria  c__Gammaproteobacteria             o__SAR86   \n",
       "4    p__Proteobacteria  c__Gammaproteobacteria     o__GCA-002705445   \n",
       "\n",
       "                 family            genus                      species  \n",
       "0            f__TMED112       g__TMED112       s__TMED112 sp003280455  \n",
       "1   f__Actinomarinaceae  g__Actinomarina  s__Actinomarina sp902615855  \n",
       "2  f__Pelagibacteraceae  g__Pelagibacter  s__Pelagibacter sp902567045  \n",
       "3              f__D2472      g__CACNXK01      s__CACNXK01 sp902518715  \n",
       "4      f__GCA-002705445   g__GCA-2702235   s__GCA-2702235 sp002702235  "
      ]
     },
     "execution_count": 34,
     "metadata": {},
     "output_type": "execute_result"
    }
   ],
   "source": [
    "gtdb.head()"
   ]
  },
  {
   "cell_type": "code",
   "execution_count": 37,
   "id": "e29e5e0d-a3e5-4ead-85d3-4ad314325628",
   "metadata": {},
   "outputs": [],
   "source": [
    "bdf = bdf.merge(gtdb[['SAG','domain','phyla','class','order','family','genus','species']], \n",
    "          left_on = 'Genome', \n",
    "          right_on = 'SAG', \n",
    "          how = 'left')"
   ]
  },
  {
   "cell_type": "code",
   "execution_count": 46,
   "id": "b88ac51f-40f3-47f8-8b97-d410fb50e9e4",
   "metadata": {},
   "outputs": [
    {
     "data": {
      "text/plain": [
       "Index(['Genome', 'metagenome', 'perc_rel_abund', 'mg_Run',\n",
       "       'mg_Collection_date', 'mg_cruise_id', 'mg_BioSample', 'mg_Depth',\n",
       "       'mg_downloaded', 'mg_year', 'mg_month', 'mg_day', 'SAG', 'domain',\n",
       "       'phyla', 'class', 'order', 'family', 'genus', 'species'],\n",
       "      dtype='object')"
      ]
     },
     "execution_count": 46,
     "metadata": {},
     "output_type": "execute_result"
    }
   ],
   "source": [
    "bdf.columns"
   ]
  },
  {
   "cell_type": "code",
   "execution_count": 47,
   "id": "c2f25713-3266-46c3-8c02-4710eb8b6827",
   "metadata": {},
   "outputs": [],
   "source": [
    "order_rel_abund = bdf.groupby(['order','mg_Run','mg_Collection_date','mg_year','mg_month','mg_day'], as_index = False)['perc_rel_abund'].sum()"
   ]
  },
  {
   "cell_type": "code",
   "execution_count": 48,
   "id": "38cf8975-b7d0-422a-b77a-17f93380f862",
   "metadata": {},
   "outputs": [
    {
     "data": {
      "text/html": [
       "<div>\n",
       "<style scoped>\n",
       "    .dataframe tbody tr th:only-of-type {\n",
       "        vertical-align: middle;\n",
       "    }\n",
       "\n",
       "    .dataframe tbody tr th {\n",
       "        vertical-align: top;\n",
       "    }\n",
       "\n",
       "    .dataframe thead th {\n",
       "        text-align: right;\n",
       "    }\n",
       "</style>\n",
       "<table border=\"1\" class=\"dataframe\">\n",
       "  <thead>\n",
       "    <tr style=\"text-align: right;\">\n",
       "      <th></th>\n",
       "      <th>order</th>\n",
       "      <th>mg_Run</th>\n",
       "      <th>mg_Collection_date</th>\n",
       "      <th>mg_year</th>\n",
       "      <th>mg_month</th>\n",
       "      <th>mg_day</th>\n",
       "      <th>perc_rel_abund</th>\n",
       "    </tr>\n",
       "  </thead>\n",
       "  <tbody>\n",
       "    <tr>\n",
       "      <th>0</th>\n",
       "      <td>o__Actinomarinales</td>\n",
       "      <td>SRR5720233</td>\n",
       "      <td>2003-02-21</td>\n",
       "      <td>2003</td>\n",
       "      <td>2</td>\n",
       "      <td>21</td>\n",
       "      <td>0.043153</td>\n",
       "    </tr>\n",
       "    <tr>\n",
       "      <th>1</th>\n",
       "      <td>o__Actinomarinales</td>\n",
       "      <td>SRR5720235</td>\n",
       "      <td>2003-07-15</td>\n",
       "      <td>2003</td>\n",
       "      <td>7</td>\n",
       "      <td>15</td>\n",
       "      <td>0.087126</td>\n",
       "    </tr>\n",
       "    <tr>\n",
       "      <th>2</th>\n",
       "      <td>o__Actinomarinales</td>\n",
       "      <td>SRR5720238</td>\n",
       "      <td>2003-03-22</td>\n",
       "      <td>2003</td>\n",
       "      <td>3</td>\n",
       "      <td>22</td>\n",
       "      <td>0.041220</td>\n",
       "    </tr>\n",
       "    <tr>\n",
       "      <th>3</th>\n",
       "      <td>o__Actinomarinales</td>\n",
       "      <td>SRR5720251</td>\n",
       "      <td>2004-09-14</td>\n",
       "      <td>2004</td>\n",
       "      <td>9</td>\n",
       "      <td>14</td>\n",
       "      <td>0.478348</td>\n",
       "    </tr>\n",
       "    <tr>\n",
       "      <th>4</th>\n",
       "      <td>o__Actinomarinales</td>\n",
       "      <td>SRR5720256</td>\n",
       "      <td>2004-04-21</td>\n",
       "      <td>2004</td>\n",
       "      <td>4</td>\n",
       "      <td>21</td>\n",
       "      <td>0.159984</td>\n",
       "    </tr>\n",
       "    <tr>\n",
       "      <th>...</th>\n",
       "      <td>...</td>\n",
       "      <td>...</td>\n",
       "      <td>...</td>\n",
       "      <td>...</td>\n",
       "      <td>...</td>\n",
       "      <td>...</td>\n",
       "      <td>...</td>\n",
       "    </tr>\n",
       "    <tr>\n",
       "      <th>223</th>\n",
       "      <td>o__TMED127</td>\n",
       "      <td>SRR5720332</td>\n",
       "      <td>2003-10-07</td>\n",
       "      <td>2003</td>\n",
       "      <td>10</td>\n",
       "      <td>7</td>\n",
       "      <td>0.000000</td>\n",
       "    </tr>\n",
       "    <tr>\n",
       "      <th>224</th>\n",
       "      <td>o__TMED127</td>\n",
       "      <td>SRR5720337</td>\n",
       "      <td>2004-03-23</td>\n",
       "      <td>2004</td>\n",
       "      <td>3</td>\n",
       "      <td>23</td>\n",
       "      <td>0.000000</td>\n",
       "    </tr>\n",
       "    <tr>\n",
       "      <th>225</th>\n",
       "      <td>o__TMED127</td>\n",
       "      <td>SRR5720338</td>\n",
       "      <td>2004-01-27</td>\n",
       "      <td>2004</td>\n",
       "      <td>1</td>\n",
       "      <td>27</td>\n",
       "      <td>0.000000</td>\n",
       "    </tr>\n",
       "    <tr>\n",
       "      <th>226</th>\n",
       "      <td>o__TMED127</td>\n",
       "      <td>SRR5720342</td>\n",
       "      <td>2004-12-08</td>\n",
       "      <td>2004</td>\n",
       "      <td>12</td>\n",
       "      <td>8</td>\n",
       "      <td>0.000000</td>\n",
       "    </tr>\n",
       "    <tr>\n",
       "      <th>227</th>\n",
       "      <td>o__TMED127</td>\n",
       "      <td>SRR6507279</td>\n",
       "      <td>2009-07-14</td>\n",
       "      <td>2009</td>\n",
       "      <td>7</td>\n",
       "      <td>14</td>\n",
       "      <td>0.081442</td>\n",
       "    </tr>\n",
       "  </tbody>\n",
       "</table>\n",
       "<p>228 rows × 7 columns</p>\n",
       "</div>"
      ],
      "text/plain": [
       "                  order      mg_Run mg_Collection_date mg_year  mg_month  \\\n",
       "0    o__Actinomarinales  SRR5720233         2003-02-21    2003         2   \n",
       "1    o__Actinomarinales  SRR5720235         2003-07-15    2003         7   \n",
       "2    o__Actinomarinales  SRR5720238         2003-03-22    2003         3   \n",
       "3    o__Actinomarinales  SRR5720251         2004-09-14    2004         9   \n",
       "4    o__Actinomarinales  SRR5720256         2004-04-21    2004         4   \n",
       "..                  ...         ...                ...     ...       ...   \n",
       "223          o__TMED127  SRR5720332         2003-10-07    2003        10   \n",
       "224          o__TMED127  SRR5720337         2004-03-23    2004         3   \n",
       "225          o__TMED127  SRR5720338         2004-01-27    2004         1   \n",
       "226          o__TMED127  SRR5720342         2004-12-08    2004        12   \n",
       "227          o__TMED127  SRR6507279         2009-07-14    2009         7   \n",
       "\n",
       "     mg_day  perc_rel_abund  \n",
       "0        21        0.043153  \n",
       "1        15        0.087126  \n",
       "2        22        0.041220  \n",
       "3        14        0.478348  \n",
       "4        21        0.159984  \n",
       "..      ...             ...  \n",
       "223       7        0.000000  \n",
       "224      23        0.000000  \n",
       "225      27        0.000000  \n",
       "226       8        0.000000  \n",
       "227      14        0.081442  \n",
       "\n",
       "[228 rows x 7 columns]"
      ]
     },
     "execution_count": 48,
     "metadata": {},
     "output_type": "execute_result"
    }
   ],
   "source": [
    "order_rel_abund"
   ]
  },
  {
   "cell_type": "markdown",
   "id": "d7ae0025-173e-4c20-ad4c-e235867f82cb",
   "metadata": {},
   "source": [
    "Now let's plot:"
   ]
  },
  {
   "cell_type": "code",
   "execution_count": 65,
   "id": "9652a748-5b6a-4435-a2db-403147041b9a",
   "metadata": {},
   "outputs": [
    {
     "data": {
      "image/png": "[encoded data removed]",
      "text/plain": [
       "<Figure size 576x360 with 1 Axes>"
      ]
     },
     "metadata": {
      "needs_background": "light"
     },
     "output_type": "display_data"
    }
   ],
   "source": [
    "fig, ax = plt.subplots(figsize=(8,5))\n",
    "\n",
    "sns.lineplot(x = 'mg_Collection_date', \n",
    "             y = 'perc_rel_abund', \n",
    "             hue = 'order', \n",
    "             data = order_rel_abund[order_rel_abund['mg_year'] != '2009'],\n",
    "            ax = ax)\n",
    "\n",
    "ax.set(xlabel=\"Date\",\n",
    "       ylabel=\"Relative metagenomic abundance (%)\",\n",
    "       title=\"AG-910 metagenomic representation\")\n",
    "\n",
    "plt.legend(bbox_to_anchor=(1.05, 1), loc=2)\n",
    "\n",
    "plt.show()"
   ]
  },
  {
   "cell_type": "markdown",
   "id": "9f368565-347c-4942-888b-86adbaf372cc",
   "metadata": {},
   "source": [
    "These results can also be visualized as a heatmap:"
   ]
  },
  {
   "cell_type": "code",
   "execution_count": 63,
   "id": "86a2f054-e22f-4890-87be-0f4f6c534964",
   "metadata": {},
   "outputs": [
    {
     "data": {
      "text/plain": [
       "<AxesSubplot:xlabel='mg_Run', ylabel='order'>"
      ]
     },
     "execution_count": 63,
     "metadata": {},
     "output_type": "execute_result"
    },
    {
     "data": {
      "image/png": "[encoded data removed]",
      "text/plain": [
       "<Figure size 432x288 with 2 Axes>"
      ]
     },
     "metadata": {
      "needs_background": "light"
     },
     "output_type": "display_data"
    }
   ],
   "source": [
    "to_plot = order_rel_abund.pivot(index = 'order',columns = 'mg_Run', values = 'perc_rel_abund')\n",
    "\n",
    "sns.heatmap(to_plot)"
   ]
  },
  {
   "cell_type": "markdown",
   "id": "5f811250-06d8-4bfb-b39f-639fbf3b4d22",
   "metadata": {},
   "source": [
    "### Possible Next Steps:\n",
    "\n",
    "#### Use different metagenomes\n",
    "* Examine metagenomic representation of AG-910 at different locations and over time (e.g. HOT surface samples)\n",
    "* Examine represenation of AG-910 in deeper samples\n",
    "\n",
    "#### Use different genome inputs\n",
    "* Run the same SAGs and metagenomes again, but add the ```--dereplicate``` flag in the CoverM command\n",
    "* Run CoverM on individuals, rather than on a collection.\n",
    "* Create heatmap of individual abundances\n",
    "    * Do SAGs from the same genus exhibit similar patterns of relative abundance within these metagenomes?"
   ]
  },
  {
   "cell_type": "code",
   "execution_count": null,
   "id": "4810c998-625a-4907-9d34-b5bcb173f4fa",
   "metadata": {},
   "outputs": [],
   "source": []
  }
 ],
 "metadata": {
  "kernelspec": {
   "display_name": "biopy",
   "language": "python",
   "name": "biopy"
  },
  "language_info": {
   "codemirror_mode": {
    "name": "ipython",
    "version": 3
   },
   "file_extension": ".py",
   "mimetype": "text/x-python",
   "name": "python",
   "nbconvert_exporter": "python",
   "pygments_lexer": "ipython3",
   "version": "3.10.0"
  }
 },
 "nbformat": 4,
 "nbformat_minor": 5
}
